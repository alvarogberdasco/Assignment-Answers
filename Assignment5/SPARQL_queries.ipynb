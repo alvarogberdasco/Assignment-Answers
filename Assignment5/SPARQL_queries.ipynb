{
 "cells": [
  {
   "cell_type": "markdown",
   "id": "ba35f26a",
   "metadata": {},
   "source": [
    "Assignment 5 SPARQL queries\n",
    "-----------------------------------------\n",
    "\n",
    "I would like you to create the SPARQL query that will answer each of these questions.  Please submit the queries as a Jupyter notebook with the SPARQL kernel activated.  NO programming is required! Submit to GitHub as usual, WITH THE ANSWERS STILL VISIBLE IN THE NOTEBOOK.   Thanks!\n",
    "\n",
    "\n",
    "UniProt SPARQL Endpoint:  http://sparql.uniprot.org/sparql  (note that you need to configure the endpoint to GET if you’re using YASGUI)\n"
   ]
  },
  {
   "cell_type": "code",
   "execution_count": 1,
   "id": "94bd638a",
   "metadata": {},
   "outputs": [
    {
     "data": {
      "text/html": [
       "<div class=\"krn-spql\"><div class=\"magic\">Endpoint set to: https://sparql.uniprot.org/sparql</div><div class=\"magic\">Request format: JSON</div></div>"
      ],
      "text/plain": [
       "Endpoint set to: https://sparql.uniprot.org/sparql\n",
       "Request format: JSON\n"
      ]
     },
     "metadata": {},
     "output_type": "display_data"
    }
   ],
   "source": [
    "%endpoint https://sparql.uniprot.org/sparql\n",
    "%format JSON"
   ]
  },
  {
   "cell_type": "markdown",
   "id": "f62a7424",
   "metadata": {},
   "source": [
    "Q1: 1 POINT  How many protein records are in UniProt? \n",
    "\n"
   ]
  },
  {
   "cell_type": "code",
   "execution_count": 8,
   "id": "a4db5ca4",
   "metadata": {},
   "outputs": [
    {
     "data": {
      "text/html": [
       "<div class=\"krn-spql\"><table><tr class=hdr><th>proteincount</th></tr><tr class=odd><td class=val>378979161</td></tr></table><div class=\"tinfo\">Total: 1, Shown: 1</div></div>"
      ]
     },
     "metadata": {},
     "output_type": "display_data"
    }
   ],
   "source": [
    "PREFIX up: <http://purl.uniprot.org/core/>\n",
    "\n",
    "SELECT (count(?protein) as ?proteincount)\n",
    "\n",
    "WHERE{ \n",
    "       ?protein a up:Protein \n",
    " }"
   ]
  },
  {
   "cell_type": "markdown",
   "id": "a73c27f3",
   "metadata": {},
   "source": [
    "Q2: 1 POINT How many Arabidopsis thaliana protein records are in UniProt? "
   ]
  },
  {
   "cell_type": "code",
   "execution_count": 8,
   "id": "5c0ab0c8",
   "metadata": {},
   "outputs": [
    {
     "data": {
      "text/html": [
       "<div class=\"krn-spql\"><table><tr class=hdr><th>proteincount</th></tr><tr class=odd><td class=val>136447</td></tr></table><div class=\"tinfo\">Total: 1, Shown: 1</div></div>"
      ]
     },
     "metadata": {},
     "output_type": "display_data"
    }
   ],
   "source": [
    "#Arabidopsis thaliana's ID=3702\n",
    "PREFIX taxon: <http://purl.uniprot.org/taxonomy/>\n",
    "PREFIX up: <http://purl.uniprot.org/core/>\n",
    "\n",
    "SELECT (count(?protein) as ?proteincount)\n",
    "\n",
    "WHERE{ \n",
    "    ?protein a up:Protein;\n",
    "            up:organism taxon:3702    \n",
    " } "
   ]
  },
  {
   "cell_type": "markdown",
   "id": "6913cd93",
   "metadata": {},
   "source": [
    "Q3: 1 POINT retrieve pictures of Arabidopsis thaliana from UniProt? "
   ]
  },
  {
   "cell_type": "code",
   "execution_count": 9,
   "id": "4f5f001e",
   "metadata": {},
   "outputs": [
    {
     "data": {
      "text/html": [
       "<div class=\"krn-spql\"><table><tr class=hdr><th>image</th></tr><tr class=odd><td class=val><a href=\"https://upload.wikimedia.org/wikipedia/commons/3/39/Arabidopsis.jpg\" target=\"_other\">https://upload.wikimedia.org/wikipedia/commons/3/39/Arabidopsis.jpg</a></td></tr><tr class=even><td class=val><a href=\"https://upload.wikimedia.org/wikipedia/commons/thumb/6/60/Arabidopsis_thaliana_inflorescencias.jpg/800px-Arabidopsis_thaliana_inflorescencias.jpg\" target=\"_other\">https://upload.wikimedia.org/wikipedia/commons/thumb/6/60/Arabidopsis_thaliana_inflorescencias.jpg/800px-Arabidopsis_thaliana_inflorescencias.jpg</a></td></tr></table><div class=\"tinfo\">Total: 2, Shown: 2</div></div>"
      ]
     },
     "metadata": {},
     "output_type": "display_data"
    }
   ],
   "source": [
    "PREFIX taxon: <http://purl.uniprot.org/taxonomy/>\n",
    "PREFIX foaf: <http://xmlns.com/foaf/0.1/>\n",
    "\n",
    "SELECT ?image\n",
    "\n",
    "WHERE{ \n",
    "    taxon:3702 foaf:depiction ?image \n",
    " } "
   ]
  },
  {
   "cell_type": "markdown",
   "id": "9f4a68ca",
   "metadata": {},
   "source": [
    "Q4: 1 POINT:  What is the description of the enzyme activity of UniProt Protein Q9SZZ8"
   ]
  },
  {
   "cell_type": "code",
   "execution_count": 2,
   "id": "2b8263ce",
   "metadata": {},
   "outputs": [
    {
     "data": {
      "text/html": [
       "<div class=\"krn-spql\"><table><tr class=hdr><th>description</th></tr><tr class=odd><td class=val>all-trans-beta-carotene + 4 H(+) + 2 O2 + 4 reduced [2Fe-2S]-[ferredoxin] = all-trans-zeaxanthin + 2 H2O + 4 oxidized [2Fe-2S]-[ferredoxin].</td></tr></table><div class=\"tinfo\">Total: 1, Shown: 1</div></div>"
      ]
     },
     "metadata": {},
     "output_type": "display_data"
    }
   ],
   "source": [
    "PREFIX up:<http://purl.uniprot.org/core/>\n",
    "PREFIX uniprotkb:<http://purl.uniprot.org/uniprot/>\n",
    "PREFIX rdfs:<http://www.w3.org/2000/01/rdf-schema#> \n",
    "\n",
    "SELECT ?description \n",
    "\n",
    "WHERE{\n",
    "    uniprotkb:Q9SZZ8 a up:Protein ;\n",
    "                up:enzyme ?enzyme .\n",
    "    ?enzyme up:activity ?activity .\n",
    "    ?activity a up:Catalytic_Activity ;\n",
    "                rdfs:label ?description \n",
    " }"
   ]
  },
  {
   "cell_type": "markdown",
   "id": "ed2e9b16",
   "metadata": {},
   "source": [
    "Q5: 1 POINT:  Retrieve the proteins ids, and date of submission, for 5 proteins that have been added to UniProt this year   (HINT Google for “SPARQL FILTER by date”)\n"
   ]
  },
  {
   "cell_type": "code",
   "execution_count": 6,
   "id": "f9e7cdaf",
   "metadata": {},
   "outputs": [
    {
     "data": {
      "text/html": [
       "<div class=\"krn-spql\"><table><tr class=hdr><th>id</th>\n",
       "<th>date</th></tr><tr class=odd><td class=val>A0A7G7KUQ7</td>\n",
       "<td class=val>2021-02-10</td></tr><tr class=even><td class=val>A0A7G7L0K6</td>\n",
       "<td class=val>2021-02-10</td></tr><tr class=odd><td class=val>A0A7U4S0U4</td>\n",
       "<td class=val>2021-06-02</td></tr><tr class=even><td class=val>A0A7U8RPA0</td>\n",
       "<td class=val>2021-06-02</td></tr><tr class=odd><td class=val>A0A7U9G810</td>\n",
       "<td class=val>2021-06-02</td></tr></table><div class=\"tinfo\">Total: 5, Shown: 5</div></div>"
      ]
     },
     "metadata": {},
     "output_type": "display_data"
    }
   ],
   "source": [
    "PREFIX up: <http://purl.uniprot.org/core/>\n",
    "PREFIX xsd: <http://www.w3.org/2001/XMLSchema#>\n",
    "\n",
    "SELECT ?id ?date\n",
    "\n",
    "WHERE{\n",
    "    ?protein a up:Protein ;\n",
    "               up:created ?date .\n",
    "    FILTER (?date >= \"2021-01-01\"^^xsd:date && ?date < \"2022-01-01\"^^xsd:date) .\n",
    "    BIND (REPLACE(STR(?protein), \"http://purl.uniprot.org/uniprot/\", \"\") as ?id) \n",
    "    \n",
    " }LIMIT 5"
   ]
  },
  {
   "cell_type": "markdown",
   "id": "0631389d",
   "metadata": {},
   "source": [
    "Q6: 1 POINT How  many species are in the UniProt taxonomy?\n"
   ]
  },
  {
   "cell_type": "code",
   "execution_count": 7,
   "id": "a56dd3cf",
   "metadata": {},
   "outputs": [
    {
     "data": {
      "text/html": [
       "<div class=\"krn-spql\"><table><tr class=hdr><th>taxoncount</th></tr><tr class=odd><td class=val>1995728</td></tr></table><div class=\"tinfo\">Total: 1, Shown: 1</div></div>"
      ]
     },
     "metadata": {},
     "output_type": "display_data"
    }
   ],
   "source": [
    "PREFIX up: <http://purl.uniprot.org/core/>\n",
    "\n",
    "SELECT (count (DISTINCT ?taxon) as ?taxoncount)\n",
    "\n",
    "WHERE{\n",
    "    ?taxon a up:Taxon;\n",
    "          up:rank up:Species .\n",
    " }"
   ]
  },
  {
   "cell_type": "markdown",
   "id": "97cfbe5f",
   "metadata": {},
   "source": [
    "Q7: 2 POINT  How many species have at least one protein record? (this might take a long time to execute, so do this one last!)\n"
   ]
  },
  {
   "cell_type": "code",
   "execution_count": 2,
   "id": "f36a21a5",
   "metadata": {},
   "outputs": [
    {
     "data": {
      "text/html": [
       "<div class=\"krn-spql\"><table><tr class=hdr><th>speciescount</th></tr><tr class=odd><td class=val>1078469</td></tr></table><div class=\"tinfo\">Total: 1, Shown: 1</div></div>"
      ]
     },
     "metadata": {},
     "output_type": "display_data"
    }
   ],
   "source": [
    "PREFIX up: <http://purl.uniprot.org/core/> \n",
    "\n",
    "SELECT (count(DISTINCT ?species) as ?speciescount)\n",
    "\n",
    "WHERE{\n",
    "    ?protein a up:Protein .\n",
    "    ?protein up:organism ?species .\n",
    "    ?species a up:Taxon .\n",
    "    ?species up:rank up:Species \n",
    " }"
   ]
  },
  {
   "cell_type": "markdown",
   "id": "ecd628bf",
   "metadata": {},
   "source": [
    "Q8: 3 points:  find the AGI codes and gene names for all Arabidopsis thaliana  proteins that have a protein function annotation description that mentions “pattern formation”"
   ]
  },
  {
   "cell_type": "code",
   "execution_count": 18,
   "id": "0ccc285b",
   "metadata": {},
   "outputs": [
    {
     "data": {
      "text/html": [
       "<div class=\"krn-spql\"><table><tr class=hdr><th>code</th>\n",
       "<th>gene_name</th></tr><tr class=odd><td class=val>At1g13980</td>\n",
       "<td class=val>GN</td></tr><tr class=even><td class=val>At3g02130</td>\n",
       "<td class=val>RPK2</td></tr><tr class=odd><td class=val>At1g69270</td>\n",
       "<td class=val>RPK1</td></tr><tr class=even><td class=val>At5g37800</td>\n",
       "<td class=val>RSL1</td></tr><tr class=odd><td class=val>At1g26830</td>\n",
       "<td class=val>CUL3A</td></tr><tr class=even><td class=val>At1g66470</td>\n",
       "<td class=val>RHD6</td></tr><tr class=odd><td class=val>At3g09090</td>\n",
       "<td class=val>DEX1</td></tr><tr class=even><td class=val>At5g55250</td>\n",
       "<td class=val>IAMT1</td></tr><tr class=odd><td class=val>At1g63700</td>\n",
       "<td class=val>YDA</td></tr><tr class=even><td class=val>At4g21750</td>\n",
       "<td class=val>ATML1</td></tr><tr class=odd><td class=val>At1g69670</td>\n",
       "<td class=val>CUL3B</td></tr><tr class=even><td class=val>At5g02010</td>\n",
       "<td class=val>ROPGEF7</td></tr><tr class=odd><td class=val>At4g37650</td>\n",
       "<td class=val>SHR</td></tr><tr class=even><td class=val>At3g54220</td>\n",
       "<td class=val>SCR</td></tr><tr class=odd><td class=val>At2g46710</td>\n",
       "<td class=val>ROPGAP3</td></tr><tr class=even><td class=val>At2g42580</td>\n",
       "<td class=val>TTL3</td></tr><tr class=odd><td class=val>At5g40260</td>\n",
       "<td class=val>SWEET8</td></tr></table><div class=\"tinfo\">Total: 17, Shown: 17</div></div>"
      ]
     },
     "metadata": {},
     "output_type": "display_data"
    }
   ],
   "source": [
    "PREFIX up: <http://purl.uniprot.org/core/>\n",
    "PREFIX taxon: <http://purl.uniprot.org/taxonomy/>\n",
    "PREFIX rdfs:<http://www.w3.org/2000/01/rdf-schema#>\n",
    "PREFIX skos: <http://www.w3.org/2004/02/skos/core#>\n",
    "\n",
    "SELECT ?code ?gene_name\n",
    "\n",
    "WHERE{\n",
    "    \n",
    "    ?protein a up:Protein ;\n",
    "        up:organism taxon:3702 ;\n",
    "        up:encodedBy ?gene ;\n",
    "        up:annotation ?function_annotation .\n",
    "    \n",
    "    ?gene a up:Gene ;\n",
    "        up:locusName ?code ;\n",
    "        skos:prefLabel ?gene_name .\n",
    "    \n",
    "    ?function_annotation a up:Function_Annotation ;\n",
    "                      rdfs:comment ?function_description .\n",
    "    FILTER REGEX (?function_description, \"pattern formation\", \"i\") .\n",
    "\n",
    " }"
   ]
  },
  {
   "cell_type": "markdown",
   "id": "cdfdd895",
   "metadata": {},
   "source": [
    "From the MetaNetX metabolic networks for metagenomics database SPARQL Endpoint: https://rdf.metanetx.org/sparql\n",
    "(this slide deck will make it much easier for you!  https://www.metanetx.org/cgi-bin/mnxget/mnxref/MetaNetX_RDF_schema.pdf)\n",
    "\n",
    "\n",
    "Q9: 4 POINTS:  what is the MetaNetX Reaction identifier (starts with “mnxr”) for the UniProt Protein uniprotkb:Q18A79\n"
   ]
  },
  {
   "cell_type": "code",
   "execution_count": 24,
   "id": "02854a18",
   "metadata": {},
   "outputs": [
    {
     "data": {
      "text/html": [
       "<div class=\"krn-spql\"><div class=\"magic\">Endpoint set to: https://rdf.metanetx.org/sparql</div></div>"
      ],
      "text/plain": [
       "Endpoint set to: https://rdf.metanetx.org/sparql\n"
      ]
     },
     "metadata": {},
     "output_type": "display_data"
    },
    {
     "data": {
      "text/html": [
       "<div class=\"krn-spql\"><table><tr class=hdr><th>id</th></tr><tr class=odd><td class=val>MNXR165934</td></tr><tr class=even><td class=val>MNXR145046</td></tr></table><div class=\"tinfo\">Total: 2, Shown: 2</div></div>"
      ]
     },
     "metadata": {},
     "output_type": "display_data"
    }
   ],
   "source": [
    "%endpoint https://rdf.metanetx.org/sparql\n",
    "\n",
    "PREFIX mnx: <https://rdf.metanetx.org/schema/>\n",
    "PREFIX uniprotkb: <http://purl.uniprot.org/uniprot/>\n",
    "\n",
    "SELECT DISTINCT ?id\n",
    "\n",
    "WHERE{\n",
    "    ?pept a mnx:PEPT ;\n",
    "          mnx:peptXref uniprotkb:Q18A79 .\n",
    "    ?cata a mnx:CATA ;\n",
    "          mnx:pept ?pept .\n",
    "    ?gpr a mnx:GPR ;\n",
    "         mnx:cata ?cata ;\n",
    "         mnx:reac ?reac .\n",
    "    ?reac a mnx:REAC ;\n",
    "          mnx:mnxr ?mnxr .\n",
    "    ?mnxr rdfs:label ?id .\n",
    "}"
   ]
  },
  {
   "cell_type": "markdown",
   "id": "8cc61b5e",
   "metadata": {},
   "source": [
    "FEDERATED QUERY - UniProt and MetaNetX\n",
    "\n",
    "Q10: 5 POINTS:  What is the official locus name, and the MetaNetX Reaction identifier (mnxr…..) for the protein that has “glycine reductase” catalytic activity in Clostridium difficile (taxon 272563).   (this must be executed on the https://rdf.metanetx.org/sparql   endpoint)"
   ]
  },
  {
   "cell_type": "code",
   "execution_count": 26,
   "id": "76e8bab1",
   "metadata": {},
   "outputs": [
    {
     "data": {
      "text/html": [
       "<div class=\"krn-spql\"><table><tr class=hdr><th>locus</th>\n",
       "<th>MetaNetXID</th></tr><tr class=odd><td class=val>GLGA_CLOD6</td>\n",
       "<td class=val>mnxr165934</td></tr><tr class=even><td class=val>GLGA_CLOD6</td>\n",
       "<td class=val>mnxr145046c3</td></tr></table><div class=\"tinfo\">Total: 2, Shown: 2</div></div>"
      ]
     },
     "metadata": {},
     "output_type": "display_data"
    }
   ],
   "source": [
    "PREFIX up:<http://purl.uniprot.org/core/> \n",
    "PREFIX rdfs: <http://www.w3.org/2000/01/rdf-schema#>\n",
    "PREFIX mnx: <https://rdf.metanetx.org/schema/>\n",
    "PREFIX taxon: <http://purl.uniprot.org/taxonomy/>\n",
    "\n",
    "SELECT DISTINCT ?locus ?MetaNetXID\n",
    "\n",
    "WHERE{\n",
    "  service <http://sparql.uniprot.org/sparql> {\n",
    "    ?protein a up:Protein .\n",
    "    ?protein up:organism taxon:272563 .\n",
    "    ?protein up:mnemonic ?locus .\n",
    "    ?protein up:classifiedWith ?goTerm .\n",
    "    ?goTerm rdfs:label ?activity .\n",
    "    filter contains(?activity, \"starch synthase\")\n",
    "    bind (substr(str(?protein),33) as ?ac)\n",
    "    bind (IRI(CONCAT(\"http://purl.uniprot.org/uniprot/\",?ac)) as ?proteinRef)\n",
    "  }\n",
    "  service <https://rdf.metanetx.org/sparql> {\n",
    "    ?pept mnx:peptXref ?proteinRef .\n",
    "    ?cata mnx:pept ?pept .\n",
    "    ?gpr mnx:cata ?cata ;\n",
    "         mnx:reac ?reac .\n",
    "    ?reac rdfs:label ?MetaNetXID .\n",
    "  }\n",
    "} "
   ]
  }
 ],
 "metadata": {
  "kernelspec": {
   "display_name": "SPARQL",
   "language": "sparql",
   "name": "sparql"
  },
  "language_info": {
   "codemirror_mode": {
    "name": "sparql"
   },
   "mimetype": "application/sparql-query",
   "name": "sparql",
   "pygments_lexer": "sparql-nb"
  }
 },
 "nbformat": 4,
 "nbformat_minor": 5
}
